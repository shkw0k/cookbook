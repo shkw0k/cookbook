{
 "metadata": {
  "name": "",
  "signature": "sha256:5c056b801487ddb86314de4ae0a165a4130f6a63b464b1dd63e725e9deb8b45d"
 },
 "nbformat": 3,
 "nbformat_minor": 0,
 "worksheets": [
  {
   "cells": [
    {
     "cell_type": "markdown",
     "metadata": {},
     "source": [
      "# How fast is Numba compared to numpy?"
     ]
    },
    {
     "cell_type": "code",
     "collapsed": false,
     "input": [
      "import numpy as np\n",
      "import numba as nb\n",
      "from numba import jit, double, int32, autojit, i4, i8"
     ],
     "language": "python",
     "metadata": {},
     "outputs": [],
     "prompt_number": 1
    },
    {
     "cell_type": "markdown",
     "metadata": {},
     "source": [
      "### Prepare data for test"
     ]
    },
    {
     "cell_type": "code",
     "collapsed": false,
     "input": [
      "width, height = 1000, 1000\n",
      "a = np.arange(width * height).reshape((height, width))"
     ],
     "language": "python",
     "metadata": {},
     "outputs": [],
     "prompt_number": 2
    },
    {
     "cell_type": "markdown",
     "metadata": {},
     "source": [
      "### Simple example"
     ]
    },
    {
     "cell_type": "code",
     "collapsed": false,
     "input": [
      "def testPurePy(array2d, width, height):\n",
      "    \"\"\"\n",
      "    Sums all elements in array2d\n",
      "    Width and height are provided so there is no numpy function inside here\n",
      "    \"\"\"\n",
      "    total = 0 \n",
      "    for r in range(height):\n",
      "        for c in range(width):\n",
      "            total += array2d[r,c] \n",
      "    return total"
     ],
     "language": "python",
     "metadata": {},
     "outputs": [],
     "prompt_number": 3
    },
    {
     "cell_type": "markdown",
     "metadata": {},
     "source": [
      "#### Make the numba version of testPurePy"
     ]
    },
    {
     "cell_type": "code",
     "collapsed": false,
     "input": [
      "# We can call jit() or jit with parameters.\n",
      "# The parameters for jit() specify the data types of the arguments.\n",
      "# In this case, i8 stands for long integers (64 bit).\n",
      "\n",
      "# This is the other way to call jit(): \n",
      "# testNumba = jit(testPurePy)\n",
      "\n",
      "testNumba = jit(\"i8(i8[:,:],i8,i8)\")(testPurePy)\n",
      "\n",
      "# testNumba is the numba version of testPurePy.\n",
      "# We can inspect what types are generated for the local variables.\n",
      "# From the output below, we can see that the local variable are of type int64,\n",
      "# including the loop indices r and c.\n",
      "\n",
      "testNumba.inspect_types()"
     ],
     "language": "python",
     "metadata": {},
     "outputs": [
      {
       "output_type": "stream",
       "stream": "stdout",
       "text": [
        "testPurePy (array(int64, 2d, A), int64, int64) -> int64\n",
        "--------------------------------------------------------------------------------\n",
        "# File: <ipython-input-3-5b19e646e4c1>\n",
        "# --- LINE 1 --- \n",
        "\n",
        "def testPurePy(array2d, width, height):\n",
        "\n",
        "    # --- LINE 2 --- \n",
        "\n",
        "    \"\"\"\n",
        "\n",
        "    # --- LINE 3 --- \n",
        "\n",
        "    Sums all elements in array2d\n",
        "\n",
        "    # --- LINE 4 --- \n",
        "\n",
        "    Width and height are provided so there is no numpy function inside here\n",
        "\n",
        "    # --- LINE 5 --- \n",
        "\n",
        "    \"\"\"\n",
        "\n",
        "    # --- LINE 6 --- \n",
        "    # label 0\n",
        "    #   $0.1 = const(<class 'int'>, 0)  :: int32\n",
        "    #   total = $0.1  :: int64\n",
        "\n",
        "    total = 0\n",
        "\n",
        "    # --- LINE 7 --- \n",
        "    #   jump 6\n",
        "    # label 19\n",
        "    #   $19.1 = iternext(value=$6.3)  :: int64\n",
        "    #   $19.2 = itervalid(value=$6.3)  :: bool\n",
        "    #   branch $19.2, 22, 71\n",
        "    # label 6\n",
        "    #   $6.1 = global(range: <class 'range'>)  :: range\n",
        "    #   $6.2 = call $6.1(height, )  :: (int64,) -> range_state64\n",
        "    #   $6.3 = getiter(value=$6.2)  :: range_iter64\n",
        "    #   jump 19\n",
        "    # label 22\n",
        "    #   $22.1 = $19.1  :: int64\n",
        "    #   r = $22.1  :: int64\n",
        "\n",
        "    for r in range(height):\n",
        "\n",
        "        # --- LINE 8 --- \n",
        "        #   jump 25\n",
        "        # label 41\n",
        "        #   $41.1 = $38.1  :: int64\n",
        "        #   c = $41.1  :: int64\n",
        "        # label 25\n",
        "        #   $25.1 = global(range: <class 'range'>)  :: range\n",
        "        #   $25.2 = call $25.1(width, )  :: (int64,) -> range_state64\n",
        "        #   $25.3 = getiter(value=$25.2)  :: range_iter64\n",
        "        #   jump 38\n",
        "        # label 38\n",
        "        #   $38.1 = iternext(value=$25.3)  :: int64\n",
        "        #   $38.2 = itervalid(value=$25.3)  :: bool\n",
        "        #   branch $38.2, 41, 67\n",
        "\n",
        "        for c in range(width):\n",
        "\n",
        "            # --- LINE 9 --- \n",
        "            # label 67\n",
        "            #   del $25.3\n",
        "            #   jump 68\n",
        "            # label 68\n",
        "            #   jump 19\n",
        "            #   $41.2 = build_tuple(items=[Var(r, <ipython-input-3-5b19e646e4c1> (7)), Var(c, <ipython-input-3-5b19e646e4c1> (8))])  :: (int64 x 2)\n",
        "            #   $41.3 = getitem(index=$41.2, target=array2d)  :: int64\n",
        "            #   $41.4 = total + $41.3  :: int64\n",
        "            #   total = $41.4  :: int64\n",
        "            #   jump 38\n",
        "            # label 71\n",
        "            #   del $6.3\n",
        "\n",
        "            total += array2d[r,c]\n",
        "\n",
        "    # --- LINE 10 --- \n",
        "    # label 72\n",
        "    #   return total\n",
        "    #   jump 72\n",
        "\n",
        "    return total\n",
        "\n",
        "\n",
        "================================================================================\n"
       ]
      }
     ],
     "prompt_number": 4
    },
    {
     "cell_type": "markdown",
     "metadata": {},
     "source": [
      "### Let's test it and see how the number version compares with the pure python version."
     ]
    },
    {
     "cell_type": "code",
     "collapsed": false,
     "input": [
      "testNumba(a, width, height)"
     ],
     "language": "python",
     "metadata": {},
     "outputs": [
      {
       "metadata": {},
       "output_type": "pyout",
       "prompt_number": 5,
       "text": [
        "499999500000"
       ]
      }
     ],
     "prompt_number": 5
    },
    {
     "cell_type": "code",
     "collapsed": false,
     "input": [
      "%%timeit\n",
      "testNumba(a, width, height)"
     ],
     "language": "python",
     "metadata": {},
     "outputs": [
      {
       "output_type": "stream",
       "stream": "stdout",
       "text": [
        "100 loops, best of 3: 2.11 ms per loop\n"
       ]
      }
     ],
     "prompt_number": 6
    },
    {
     "cell_type": "code",
     "collapsed": false,
     "input": [
      "%%timeit\n",
      "testPurePy(a, width, height)"
     ],
     "language": "python",
     "metadata": {},
     "outputs": [
      {
       "output_type": "stream",
       "stream": "stdout",
       "text": [
        "1 loops, best of 3: 503 ms per loop\n"
       ]
      }
     ],
     "prompt_number": 7
    },
    {
     "cell_type": "raw",
     "metadata": {},
     "source": [
      "So the number version is faster than the pure python version, about 250 times faster.\n",
      "OK. But what if we use numpy?"
     ]
    },
    {
     "cell_type": "code",
     "collapsed": false,
     "input": [
      "%%timeit\n",
      "np.sum(a)"
     ],
     "language": "python",
     "metadata": {},
     "outputs": [
      {
       "output_type": "stream",
       "stream": "stdout",
       "text": [
        "1000 loops, best of 3: 595 \u00b5s per loop\n"
       ]
      }
     ],
     "prompt_number": 8
    },
    {
     "cell_type": "raw",
     "metadata": {},
     "source": [
      "Well, the numpy version is almost four times as fast as the numba version.\n",
      "Can we optimize our code ?"
     ]
    },
    {
     "cell_type": "code",
     "collapsed": false,
     "input": [
      "def testPurePy2(array2d, width, height):\n",
      "    total = 0\n",
      "    r = 0\n",
      "    c = 0\n",
      "    while r < height:\n",
      "        c = 0\n",
      "        while c < width:\n",
      "            total += array2d[r,c]\n",
      "            c += 1\n",
      "        r += 1\n",
      "    return total\n",
      "\n",
      "locals = {'total':i8, 'r':i8, 'c':i8}\n",
      "testNumba2 = jit(\"i8(i8[:,:],i8,i8)\", locals=locals)(testPurePy2)\n"
     ],
     "language": "python",
     "metadata": {},
     "outputs": [],
     "prompt_number": 9
    },
    {
     "cell_type": "code",
     "collapsed": false,
     "input": [
      "%%timeit\n",
      "testNumba2(a, width, height)"
     ],
     "language": "python",
     "metadata": {},
     "outputs": [
      {
       "output_type": "stream",
       "stream": "stdout",
       "text": [
        "1000 loops, best of 3: 1.04 ms per loop\n"
       ]
      }
     ],
     "prompt_number": 10
    },
    {
     "cell_type": "raw",
     "metadata": {},
     "source": [
      "Still not as fast as numpy."
     ]
    },
    {
     "cell_type": "markdown",
     "metadata": {},
     "source": [
      "The page was written by Shui Hung Kwok, 2014-05-15."
     ]
    }
   ],
   "metadata": {}
  }
 ]
}