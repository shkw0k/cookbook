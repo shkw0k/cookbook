{
 "metadata": {
  "name": ""
 },
 "nbformat": 3,
 "nbformat_minor": 0,
 "worksheets": [
  {
   "cells": [
    {
     "cell_type": "markdown",
     "metadata": {},
     "source": [
      "# IP Camera Interface (Foscam)"
     ]
    },
    {
     "cell_type": "markdown",
     "metadata": {},
     "source": [
      "This notebook shows how to get images from a network camera. In this case, I am using a Foscam FI8918W Wireless IP Camera. \n",
      "Other cameras may work similarly. But I only have this one to test. \n",
      "\n",
      "For this interface to work, one needs to setup the camera with a user name and password. Unfortunately, this information is sent in a URL in clear text. So to keep it simple, I setup a user called 'operator' and no password, ie. empty string. This user has only basic privileges, such as to view and control the camera panning, but not changing other settings. "
     ]
    },
    {
     "cell_type": "code",
     "collapsed": false,
     "input": [
      "import sys\n",
      "from urllib.request import urlopen\n",
      "import time\n",
      "from io import BytesIO, StringIO\n",
      "import base64\n",
      "from IPython.core.display import Image, HTML, display, display_jpeg, display_html, clear_output"
     ],
     "language": "python",
     "metadata": {},
     "outputs": [],
     "prompt_number": 155
    },
    {
     "cell_type": "markdown",
     "metadata": {},
     "source": [
      "### Note: This my current camera IP address. You need to change it to your camera IP address."
     ]
    },
    {
     "cell_type": "code",
     "collapsed": false,
     "input": [
      "FOSCAMIP = \"192.168.200.67\""
     ],
     "language": "python",
     "metadata": {},
     "outputs": [],
     "prompt_number": 156
    },
    {
     "cell_type": "code",
     "collapsed": false,
     "input": [
      "class Foscam:\n",
      "    def __init__(self, ip = FOSCAMIP):\n",
      "        \"\"\"\n",
      "        Remembers the IP address and turns off the the IR lights.\n",
      "        \"\"\"\n",
      "        self.hostIP = ip\n",
      "        self.irOnOff (False)\n",
      "\n",
      "    def irOnOff (self, onOff):\n",
      "        \"\"\"\n",
      "        The command codes are in the Foscam documentation found somewhere online.\n",
      "        \"\"\"\n",
      "        self.decoderCtrl (95 if onOff else 94)\n",
      "\n",
      "    def decoderCtrl (self, cmd):\n",
      "        \"\"\"\n",
      "        The decoder control interface takes a command code, user name and password.\n",
      "        \"\"\"\n",
      "        url = \"http://%s/decoder_control.cgi?command=%d&user=operator&pwd=\" % (self.hostIP, cmd)\n",
      "        fh = urlopen (url)\n",
      "        fh.read ()\n",
      "        \n",
      "    def snapshot (self, resol=8):    \n",
      "        \"\"\"\n",
      "        resolution 4: 160x120, 8: 320x244, 16: 352x288, 32: 640x488\n",
      "        Returns the lastest image from camera and the BW version\n",
      "        \"\"\"\n",
      "        url = \"http://%s/snapshot.cgi?resolution=%d&user=guest&pwd=\" % (self.hostIP, resol)\n",
      "        fh = urlopen (url)\n",
      "        buf = fh.read ()\n",
      "        return buf\n",
      "\n",
      "    def videostream (self, rate, resol=8):\n",
      "        \"\"\"\n",
      "        rate: 0=30fps, 1=15fps, 2=12fps, 5=9fps, 10=5fps, 15=1fps at resolution=4 (160x120 px)\n",
      "        Reads a stream of jpeg images\n",
      "        This is a multi-body HTTP response.\n",
      "        First element is a marker, followed by a few headers (content-type, content-length).\n",
      "        Then the body data.\n",
      "        Then repeat.\n",
      "        \"\"\"\n",
      "        url = \"http://%s/videostream.cgi?rate=%d&resolution=%d&user=guest&pwd=\" % (self.hostIP, rate, resol)\n",
      "        fh = urlopen (url)\n",
      "        while True:\n",
      "            marker = fh.readline ()\n",
      "            contentType = fh.readline ()\n",
      "            contentLength = fh.readline ()\n",
      "            dummy = fh.readline()\n",
      "            parts = contentLength.strip().split()\n",
      "            buf = fh.read (int(parts[1]))\n",
      "            dummy = fh.readline()\n",
      "            yield buf"
     ],
     "language": "python",
     "metadata": {},
     "outputs": [],
     "prompt_number": 157
    },
    {
     "cell_type": "markdown",
     "metadata": {},
     "source": [
      "# Let's test it"
     ]
    },
    {
     "cell_type": "markdown",
     "metadata": {},
     "source": [
      "First, we create a new instance."
     ]
    },
    {
     "cell_type": "code",
     "collapsed": false,
     "input": [
      "fs = Foscam (FOSCAMIP)"
     ],
     "language": "python",
     "metadata": {},
     "outputs": [],
     "prompt_number": 158
    },
    {
     "cell_type": "markdown",
     "metadata": {},
     "source": [
      "Now, we get one image."
     ]
    },
    {
     "cell_type": "code",
     "collapsed": false,
     "input": [
      "img = fs.snapshot(4)\n",
      "Image(data=img)"
     ],
     "language": "python",
     "metadata": {},
     "outputs": [
      {
       "jpeg": "[encoded data removed]",
       "metadata": {},
       "output_type": "pyout",
       "prompt_number": 159,
       "text": [
        "<IPython.core.display.Image at 0x107649610>"
       ]
      }
     ],
     "prompt_number": 159
    },
    {
     "cell_type": "markdown",
     "metadata": {},
     "source": [
      "Of course, we can display the image directly using the URL. The example below shows how to do that.\n",
      "\n",
      "But what we want is actually getting the image data, such that we can do some analysis or processing with it."
     ]
    },
    {
     "cell_type": "code",
     "collapsed": false,
     "input": [
      "Image (url=\"http://192.168.200.67/snapshot.cgi?resolution=8&user=guest&pwd=\")\n",
      "#Note that resolution is set to 8"
     ],
     "language": "python",
     "metadata": {},
     "outputs": [
      {
       "html": [
        "<img src=\"http://192.168.200.67/snapshot.cgi?resolution=8&user=guest&pwd=\"/>"
       ],
       "metadata": {},
       "output_type": "pyout",
       "prompt_number": 160,
       "text": [
        "<IPython.core.display.Image at 0x107664450>"
       ]
      }
     ],
     "prompt_number": 160
    },
    {
     "cell_type": "markdown",
     "metadata": {},
     "source": [
      "Now let's get a stream of images and display them here in the notebook.\n",
      "\n",
      "First, we set up the HTML code for an image with the id \"myImageId\".\n",
      "This image tag is going to be our placehold where we are going to display the images that we get from the camera."
     ]
    },
    {
     "cell_type": "code",
     "collapsed": false,
     "input": [
      "%%HTML\n",
      "The image placeholder is here:<br>\n",
      "<img id='imageId'>\n",
      "<br>\n",
      "<hr>\n",
      "This line is below the image.\n",
      "<br>\n",
      "Note that the size of the image is not set."
     ],
     "language": "python",
     "metadata": {},
     "outputs": [
      {
       "html": [
        "The image placeholder is here:<br>\n",
        "<img id='imageId'>\n",
        "<br>\n",
        "<hr>\n",
        "This line is below the image.\n",
        "<br>\n",
        "Note that the size of the image is not set."
       ],
       "metadata": {},
       "output_type": "display_data",
       "text": [
        "<IPython.core.display.HTML at 0x10766a750>"
       ]
      }
     ],
     "prompt_number": 163
    },
    {
     "cell_type": "code",
     "collapsed": false,
     "input": [
      "def displayImage (imgId, imgData):\n",
      "    \"\"\"\n",
      "    This helper function displays the image using the given image element identified by 'imgId'.\n",
      "    The data in imgData is expected to be raw jpeg. \n",
      "    We encode the raw data using base64 and pass it to the browser via javascript.\n",
      "    \"\"\"\n",
      "    buf1 = base64.b64encode(imgData)\n",
      "    imgE = buf1.decode('ascii')\n",
      "    data = \"data:image/jpeg;base64,{0}\".format(imgE)\n",
      "    display_html (HTML(\"<script type='text/javascript'>document.getElementById('{0}').src='{1}';</script>\".format(imgId, data)))\n",
      "    return"
     ],
     "language": "python",
     "metadata": {},
     "outputs": [],
     "prompt_number": 164
    },
    {
     "cell_type": "markdown",
     "metadata": {},
     "source": [
      "Next, we get a videostream from the camera as a generator. We use rate=0, which means maximum frame rate. The resolution is set to 8, which means 320x240.\n",
      "For testing, we request only 50 images in a loop.\n",
      "But we also loop forever if want to do some processing. That is another topic."
     ]
    },
    {
     "cell_type": "code",
     "collapsed": false,
     "input": [
      "time0 = time.time()\n",
      "cnt = 0\n",
      "try:\n",
      "    gen = fs.videostream (0, 8)\n",
      "    for i in range (50):\n",
      "        img = next(gen)\n",
      "        clear_output()\n",
      "        displayImage ('imageId', img)\n",
      "        cnt += 1\n",
      "except KeyboardInterrupt:\n",
      "    print (\"Aborted\")\n",
      "time1 = time.time()\n",
      "print (\"Rate= %.2f frames per sec\" % (cnt/(time1-time0)))"
     ],
     "language": "python",
     "metadata": {},
     "outputs": [
      {
       "html": [
        "<script type='text/javascript'>document.getElementById('imageId').src='data:image/jpeg;base64,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';</script>"
       ],
       "metadata": {},
       "output_type": "display_data"
      },
      {
       "output_type": "stream",
       "stream": "stdout",
       "text": [
        "Rate= 29.85 frames per sec\n"
       ]
      }
     ],
     "prompt_number": 175
    },
    {
     "cell_type": "markdown",
     "metadata": {},
     "source": [
      "This is actually not bad, 29.85 frames per sec. "
     ]
    },
    {
     "cell_type": "raw",
     "metadata": {},
     "source": [
      "This page was writen by Shui Hung Kwok, 2014-02-23."
     ]
    },
    {
     "cell_type": "code",
     "collapsed": false,
     "input": [],
     "language": "python",
     "metadata": {},
     "outputs": []
    }
   ],
   "metadata": {}
  }
 ]
}