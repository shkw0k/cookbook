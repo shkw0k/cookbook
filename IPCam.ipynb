{
 "metadata": {
  "name": ""
 },
 "nbformat": 3,
 "nbformat_minor": 0,
 "worksheets": [
  {
   "cells": [
    {
     "cell_type": "markdown",
     "metadata": {},
     "source": [
      "# IP Camera Interface (Foscam)"
     ]
    },
    {
     "cell_type": "markdown",
     "metadata": {},
     "source": [
      "This notebook shows how to get images from a network camera. In this case, I am using a Foscam FI8918W Wireless IP Camera. \n",
      "Other cameras may work similarly. But I only have this one to test. \n",
      "\n",
      "For this interface to work, one needs to setup the camera with a user name and password. Unfortunately, this information is sent in a URL in clear text. So to keep it simple, I setup a user called 'operator' and no password, ie. empty string. This user has only basic privileges, such as to view and control the camera panning, but not changing other settings. "
     ]
    },
    {
     "cell_type": "code",
     "collapsed": false,
     "input": [
      "import sys\n",
      "from urllib.request import urlopen\n",
      "import time\n",
      "from io import BytesIO, StringIO\n",
      "import base64\n",
      "from IPython.core.display import Image, HTML, display, display_jpeg, display_html, clear_output"
     ],
     "language": "python",
     "metadata": {},
     "outputs": [],
     "prompt_number": 2
    },
    {
     "cell_type": "markdown",
     "metadata": {},
     "source": [
      "### Note: This my current camera IP address. You need to change it to your camera IP address."
     ]
    },
    {
     "cell_type": "code",
     "collapsed": false,
     "input": [
      "FOSCAMIP = \"192.168.200.67\""
     ],
     "language": "python",
     "metadata": {},
     "outputs": [],
     "prompt_number": 3
    },
    {
     "cell_type": "code",
     "collapsed": false,
     "input": [
      "class Foscam:\n",
      "    def __init__(self, ip = FOSCAMIP):\n",
      "        \"\"\"\n",
      "        Remembers the IP address and turns off the the IR lights.\n",
      "        \"\"\"\n",
      "        self.hostIP = ip\n",
      "        self.irOnOff (False)\n",
      "\n",
      "    def irOnOff (self, onOff):\n",
      "        \"\"\"\n",
      "        The command codes are in the Foscam documentation found somewhere online.\n",
      "        \"\"\"\n",
      "        self.decoderCtrl (95 if onOff else 94)\n",
      "\n",
      "    def decoderCtrl (self, cmd):\n",
      "        \"\"\"\n",
      "        The decoder control interface takes a command code, user name and password.\n",
      "        \"\"\"\n",
      "        url = \"http://%s/decoder_control.cgi?command=%d&user=operator&pwd=\" % (self.hostIP, cmd)\n",
      "        fh = urlopen (url)\n",
      "        fh.read ()\n",
      "        \n",
      "    def snapshot (self, resol=8):    \n",
      "        \"\"\"\n",
      "        resolution 4: 160x120, 8: 320x244, 16: 352x288, 32: 640x488\n",
      "        Returns the lastest image from camera and the BW version\n",
      "        \"\"\"\n",
      "        url = \"http://%s/snapshot.cgi?resolution=%d&user=guest&pwd=\" % (self.hostIP, resol)\n",
      "        fh = urlopen (url)\n",
      "        buf = fh.read ()\n",
      "        return buf\n",
      "\n",
      "    def videostream (self, rate, resol=8):\n",
      "        \"\"\"\n",
      "        rate: 0=30fps, 1=15fps, 2=12fps, 5=9fps, 10=5fps, 15=1fps at resolution=4 (160x120 px)\n",
      "        Reads a stream of jpeg images\n",
      "        This is a multi-body HTTP response.\n",
      "        First element is a marker, followed by a few headers (content-type, content-length).\n",
      "        Then the body data.\n",
      "        Then repeat.\n",
      "        \"\"\"\n",
      "        url = \"http://%s/videostream.cgi?rate=%d&resolution=%d&user=guest&pwd=\" % (self.hostIP, rate, resol)\n",
      "        fh = urlopen (url)\n",
      "        while True:\n",
      "            marker = fh.readline ()\n",
      "            contentType = fh.readline ()\n",
      "            contentLength = fh.readline ()\n",
      "            dummy = fh.readline()\n",
      "            parts = contentLength.strip().split()\n",
      "            buf = fh.read (int(parts[1]))\n",
      "            dummy = fh.readline()\n",
      "            yield buf"
     ],
     "language": "python",
     "metadata": {},
     "outputs": [],
     "prompt_number": 4
    },
    {
     "cell_type": "markdown",
     "metadata": {},
     "source": [
      "# Let's test it"
     ]
    },
    {
     "cell_type": "markdown",
     "metadata": {},
     "source": [
      "First, we create a new instance."
     ]
    },
    {
     "cell_type": "code",
     "collapsed": false,
     "input": [
      "fs = Foscam (FOSCAMIP)"
     ],
     "language": "python",
     "metadata": {},
     "outputs": [],
     "prompt_number": 5
    },
    {
     "cell_type": "markdown",
     "metadata": {},
     "source": [
      "Now, we get one image."
     ]
    },
    {
     "cell_type": "code",
     "collapsed": false,
     "input": [
      "img = fs.snapshot(4)\n",
      "Image(data=img)"
     ],
     "language": "python",
     "metadata": {},
     "outputs": [
      {
       "jpeg": "[encoded data removed]",
       "metadata": {},
       "output_type": "pyout",
       "prompt_number": 6,
       "text": [
        "<IPython.core.display.Image at 0x1067aff10>"
       ]
      }
     ],
     "prompt_number": 6
    },
    {
     "cell_type": "markdown",
     "metadata": {},
     "source": [
      "Of course, we can display the image directly using the URL. The example below shows how to do that.\n",
      "\n",
      "But what we want is actually getting the image data, such that we can do some analysis or processing with it."
     ]
    },
    {
     "cell_type": "code",
     "collapsed": false,
     "input": [
      "# This will not work with nbViewer, because you have no access to my camera.\n",
      "\n",
      "#Image (url=\"http://192.168.200.67/snapshot.cgi?resolution=8&user=guest&pwd=\")\n",
      "\n",
      "#Note that resolution is set to 8"
     ],
     "language": "python",
     "metadata": {},
     "outputs": [],
     "prompt_number": 7
    },
    {
     "cell_type": "markdown",
     "metadata": {},
     "source": [
      "Now let's get a stream of images and display them here in the notebook.\n",
      "\n",
      "First, we set up the HTML code for an image with the id \"myImageId\".\n",
      "This image tag is going to be our placehold where we are going to display the images that we get from the camera."
     ]
    },
    {
     "cell_type": "code",
     "collapsed": false,
     "input": [
      "%%HTML\n",
      "The image placeholder is here:<br>\n",
      "<img id='imageId'>\n",
      "<br>\n",
      "<hr>\n",
      "This line is below the image.\n",
      "<br>\n",
      "Note that the size of the image is not set."
     ],
     "language": "python",
     "metadata": {},
     "outputs": [
      {
       "html": [
        "The image placeholder is here:<br>\n",
        "<img id='imageId'>\n",
        "<br>\n",
        "<hr>\n",
        "This line is below the image.\n",
        "<br>\n",
        "Note that the size of the image is not set."
       ],
       "metadata": {},
       "output_type": "display_data",
       "text": [
        "<IPython.core.display.HTML at 0x1067af750>"
       ]
      }
     ],
     "prompt_number": 8
    },
    {
     "cell_type": "code",
     "collapsed": false,
     "input": [
      "def displayImage (imgId, imgData):\n",
      "    \"\"\"\n",
      "    This helper function displays the image using the given image element identified by 'imgId'.\n",
      "    The data in imgData is expected to be raw jpeg. \n",
      "    We encode the raw data using base64 and pass it to the browser via javascript.\n",
      "    \"\"\"\n",
      "    buf1 = base64.b64encode(imgData)\n",
      "    imgE = buf1.decode('ascii')\n",
      "    data = \"data:image/jpeg;base64,{0}\".format(imgE)\n",
      "    display_html (HTML(\"<script type='text/javascript'>document.getElementById('{0}').src='{1}';</script>\".format(imgId, data)))\n",
      "    return"
     ],
     "language": "python",
     "metadata": {},
     "outputs": [],
     "prompt_number": 9
    },
    {
     "cell_type": "markdown",
     "metadata": {},
     "source": [
      "Next, we get a videostream from the camera as a generator. We use rate=0, which means maximum frame rate. The resolution is set to 8, which means 320x240.\n",
      "For testing, we request only 50 images in a loop.\n",
      "But we also loop forever if want to do some processing. That is another topic."
     ]
    },
    {
     "cell_type": "code",
     "collapsed": false,
     "input": [
      "time0 = time.time()\n",
      "cnt = 0\n",
      "try:\n",
      "    gen = fs.videostream (0, 8)\n",
      "    for i in range (50):\n",
      "        img = next(gen)\n",
      "        clear_output()\n",
      "        displayImage ('imageId', img)\n",
      "        cnt += 1\n",
      "except KeyboardInterrupt:\n",
      "    print (\"Aborted\")\n",
      "time1 = time.time()\n",
      "print (\"Rate= %.2f frames per sec\" % (cnt/(time1-time0)))"
     ],
     "language": "python",
     "metadata": {},
     "outputs": [
      {
       "html": [
        "<script type='text/javascript'>document.getElementById('imageId').src='data:image/jpeg;base64,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';</script>"
       ],
       "metadata": {},
       "output_type": "display_data"
      },
      {
       "output_type": "stream",
       "stream": "stdout",
       "text": [
        "Rate= 16.14 frames per sec\n"
       ]
      }
     ],
     "prompt_number": 10
    },
    {
     "cell_type": "markdown",
     "metadata": {},
     "source": [
      "This is actually not bad, 29.85 frames per sec. "
     ]
    },
    {
     "cell_type": "raw",
     "metadata": {},
     "source": [
      "This page was writen by Shui Hung Kwok, 2014-02-23."
     ]
    },
    {
     "cell_type": "code",
     "collapsed": false,
     "input": [],
     "language": "python",
     "metadata": {},
     "outputs": [],
     "prompt_number": 10
    }
   ],
   "metadata": {}
  }
 ]
}