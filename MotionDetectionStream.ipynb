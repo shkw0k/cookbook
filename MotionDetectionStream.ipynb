{
 "metadata": {
  "name": "",
  "signature": "sha256:cfc47534e0c99b6265987fd914be35370bd71ec996ac66595616b62a800463a2"
 },
 "nbformat": 3,
 "nbformat_minor": 0,
 "worksheets": [
  {
   "cells": [
    {
     "cell_type": "markdown",
     "metadata": {},
     "source": [
      "# Motion Detection with display"
     ]
    },
    {
     "cell_type": "code",
     "collapsed": false,
     "input": [
      "import sys,math,time\n",
      "from urllib.request import urlopen\n",
      "from io import BytesIO\n",
      "import base64\n",
      "import numpy as np\n",
      "from IPython.core.display import HTML, display, clear_output\n",
      "import PIL.Image as PImage\n",
      "from foscam import Foscam\n",
      "import traceback"
     ],
     "language": "python",
     "metadata": {},
     "outputs": [],
     "prompt_number": 9
    },
    {
     "cell_type": "markdown",
     "metadata": {},
     "source": [
      "To display an image in the notebook we use some HTML code in a cell (defined below).\n",
      "\n",
      "The image data is first encoded as base64 and sent to HTML image using 'data:image/jpeg;base64,'. "
     ]
    },
    {
     "cell_type": "code",
     "collapsed": false,
     "input": [
      "def displayImage (imgId, imgData, width, height, moRes):\n",
      "    \"\"\"\n",
      "    This helper function displays the image using the given image element identified by 'imgId'.\n",
      "    The data in imgData is expected to be raw jpeg. \n",
      "    We encode the raw data using base64 and pass it to the browser via javascript.\n",
      "    \"\"\"\n",
      "    buf1 = base64.b64encode(imgData)\n",
      "    imgE = buf1.decode('ascii')\n",
      "    a = display(HTML(\"<script type='text/javascript'>\\\n",
      "    c.width=%d; c.height=%d;\\\n",
      "    ib.src='data:image/jpeg;base64,%s';\\\n",
      "    ctx.drawImage(ib, 0, 0);\\\n",
      "    drawMotionRes(%s);\\\n",
      "    </script>\" % (width, height, imgE, moRes)))\n",
      "    return"
     ],
     "language": "python",
     "metadata": {},
     "outputs": [],
     "prompt_number": 10
    },
    {
     "cell_type": "markdown",
     "metadata": {},
     "source": [
      "Images from the camera are converted to black and white image for processing."
     ]
    },
    {
     "cell_type": "code",
     "collapsed": false,
     "input": [
      "def toBW(jpgImg):\n",
      "    \"\"\"\n",
      "    Converts jpgImg to a black and white image\n",
      "    Returns image as a ndarray of the shape matching the input image\n",
      "    \"\"\"\n",
      "    img = PImage.open(BytesIO(jpgImg))\n",
      "    w, h = img.size\n",
      "    return np.array(img.convert(\"L\").getdata()).reshape((h, w))"
     ],
     "language": "python",
     "metadata": {},
     "outputs": [],
     "prompt_number": 11
    },
    {
     "cell_type": "markdown",
     "metadata": {},
     "source": [
      "This is a simple detection method. The image is first rebinned to a smaller dimension by averaging the pixels within a small rectangle. Then the reduced images are subtracted from each other. A pixel value is considered changed if the difference is greater than some threshold. Then if the number of changed pixels is greater than minDiff then we output the indices of the locations where changes occured."
     ]
    },
    {
     "cell_type": "code",
     "collapsed": false,
     "input": [
      "def rebinImage(img, n=2):\n",
      "    \"\"\"\n",
      "    Rebin using reshape.\n",
      "    \"\"\"\n",
      "    rows, cols = img.shape\n",
      "    alist = (rows//n, n, cols//n, n)\n",
      "    return img.reshape(alist).sum(1).sum(2) // (n*n)  \n",
      "\n",
      "def detectMotion(lastImg, img, n, thold=5, minDiff=5):\n",
      "    \"\"\"\n",
      "    Simple motion detection.\n",
      "    Img is already rebinned.\n",
      "    \"\"\"\n",
      "    indx = np.where(np.abs(img - lastImg) > thold)\n",
      "    if len(indx[0]) < minDiff:\n",
      "        return \"[]\"\n",
      "    out = [ \"[%d,%d,%d]\" % (x*n,y*n,n) for y, x in zip(indx[0],indx[1]) ]\n",
      "    return \"[\" + \",\".join(out) + \"]\"\n",
      "    "
     ],
     "language": "python",
     "metadata": {},
     "outputs": [],
     "prompt_number": 12
    },
    {
     "cell_type": "markdown",
     "metadata": {},
     "source": [
      "This is the main loop: read one image then process. Repeat for ever or until time is up."
     ]
    },
    {
     "cell_type": "code",
     "collapsed": false,
     "input": [
      "FOSCAMIP = \"192.168.201.32\"\n",
      "def mainLoop(imgId, maxSecs=10, ndivs=20, rate=10, resol=8):\n",
      "    gt = time.time\n",
      "    time0 = gt()\n",
      "    time1 = time0\n",
      "    cnt = 0\n",
      "    try:\n",
      "        foscam = Foscam(FOSCAMIP)\n",
      "        camQueue = foscam.getQueue(rate, resol)\n",
      "        bwImg = toBW(camQueue.get())\n",
      "        h, w = bwImg.shape\n",
      "        binSize = 8\n",
      "        lastImage = rebinImage(bwImg, binSize)\n",
      "        while time1 - time0 < maxSecs:\n",
      "            jpgImg = camQueue.get()\n",
      "            img = rebinImage(toBW(jpgImg), binSize)\n",
      "            moRes = detectMotion (lastImage, img, binSize)\n",
      "            displayImage(imgId, jpgImg, w, h, moRes)\n",
      "            clear_output()\n",
      "            lastImage = img\n",
      "            cnt += 1\n",
      "            time1 = gt()\n",
      "        foscam.stop()\n",
      "        print (\"cnt\", cnt)\n",
      "    except KeyboardInterrupt as ke:\n",
      "        print (\"kerror\", ke)\n",
      "        pass\n",
      "    except Exception as e:\n",
      "        print (\"error\", e)\n",
      "        traceback.print_exc()\n",
      "    finally:\n",
      "        del foscam\n",
      "    time1 = gt()\n",
      "    print (\"Frames per sec= %.2f\" % (cnt/(time1-time0)))\n",
      "    "
     ],
     "language": "python",
     "metadata": {},
     "outputs": [],
     "prompt_number": 13
    },
    {
     "cell_type": "markdown",
     "metadata": {},
     "source": [
      "The image is actually an hidden image. When the image is updated, the data is drawn onto a canvas. We can then draw elements on to the canvas, for example little rectangles showing where the motion is."
     ]
    },
    {
     "cell_type": "code",
     "collapsed": false,
     "input": [
      "%%HTML\n",
      "<canvas id='imageId'>\n",
      "<img id='imgBuf' style='visibility:hidden; display:none'>\n",
      "\n",
      "<script type='text/javascript'>\n",
      "function drawMotionRes(mlist) {\n",
      "    var p;\n",
      "    \n",
      "    for (p in mlist) {\n",
      "        var row = mlist[p];\n",
      "        ctx.strokeRect(row[0], row[1], row[2], row[2]);\n",
      "    }\n",
      "    ctx.strokeStyle = \"#FFFFFF\";\n",
      "    ctx.stroke();\n",
      "}\n",
      "var ib = document.getElementById(\"imgBuf\");\n",
      "var c = document.getElementById(\"imageId\");\n",
      "var ctx = c.getContext ('2d');\n",
      "</script>"
     ],
     "language": "python",
     "metadata": {},
     "outputs": [
      {
       "html": [
        "<canvas id='imageId'>\n",
        "<img id='imgBuf' style='visibility:hidden; display:none'>\n",
        "\n",
        "<script type='text/javascript'>\n",
        "function drawMotionRes(mlist) {\n",
        "    var p;\n",
        "    \n",
        "    for (p in mlist) {\n",
        "        var row = mlist[p];\n",
        "        ctx.strokeRect(row[0], row[1], row[2], row[2]);\n",
        "    }\n",
        "    ctx.strokeStyle = \"#FFFFFF\";\n",
        "    ctx.stroke();\n",
        "}\n",
        "var ib = document.getElementById(\"imgBuf\");\n",
        "var c = document.getElementById(\"imageId\");\n",
        "var ctx = c.getContext ('2d');\n",
        "</script>"
       ],
       "metadata": {},
       "output_type": "display_data",
       "text": [
        "<IPython.core.display.HTML at 0x107972240>"
       ]
      }
     ],
     "prompt_number": 14
    },
    {
     "cell_type": "markdown",
     "metadata": {},
     "source": [
      "Now just run it."
     ]
    },
    {
     "cell_type": "code",
     "collapsed": false,
     "input": [
      "mainLoop('imageId', resol=32, rate=10, maxSecs=10)"
     ],
     "language": "python",
     "metadata": {},
     "outputs": [
      {
       "output_type": "stream",
       "stream": "stdout",
       "text": [
        "cnt 49\n",
        "Frames per sec= 4.88\n"
       ]
      }
     ],
     "prompt_number": 18
    },
    {
     "cell_type": "markdown",
     "metadata": {},
     "source": [
      "The page was written by Shui Hung Kwok, 2014-07-19."
     ]
    }
   ],
   "metadata": {}
  }
 ]
}