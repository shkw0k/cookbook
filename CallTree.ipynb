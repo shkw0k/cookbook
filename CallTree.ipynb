{
 "metadata": {
  "name": "",
  "signature": "sha256:a9d4361e38cc03bb47c9d26bf0b208379079ff0869933a88483cdcf644cc9348"
 },
 "nbformat": 3,
 "nbformat_minor": 0,
 "worksheets": [
  {
   "cells": [
    {
     "cell_type": "code",
     "collapsed": false,
     "input": [
      "import sys\n",
      "import os\n",
      "import matplotlib.pyplot as plt\n",
      "import traceback"
     ],
     "language": "python",
     "metadata": {},
     "outputs": [],
     "prompt_number": 35
    },
    {
     "cell_type": "markdown",
     "metadata": {},
     "source": [
      "1. Collect C-files in a directory\n",
      "1. Make sure all functions are called, create a fake main() if necessary\n",
      "1. Call \"cflow *.[ch] > out.flow\" (Linux)\n",
      "1. out.flow now has the call hiearchy\n",
      "1. Parse out.flow to create a graph description file for the dot command (graphviz)"
     ]
    },
    {
     "cell_type": "markdown",
     "metadata": {},
     "source": [
      "The directory c_code has all the C-files and H-files. \n",
      "And the output of cflow is in *out.flow*."
     ]
    },
    {
     "cell_type": "code",
     "collapsed": false,
     "input": [
      "!cd c_code; /MyApplications/bin/cflow *.[ch] > out.flow"
     ],
     "language": "python",
     "metadata": {},
     "outputs": [],
     "prompt_number": 36
    },
    {
     "cell_type": "code",
     "collapsed": false,
     "input": [
      "FlowFile = \"c_code/out.flow\""
     ],
     "language": "python",
     "metadata": {},
     "outputs": [],
     "prompt_number": 37
    },
    {
     "cell_type": "code",
     "collapsed": false,
     "input": [
      "class GenCallTree:\n",
      "    def __init__(self, flowFile, dotFile):\n",
      "        self.pairs = set()\n",
      "        self.fh = open(flowFile)\n",
      "        if self.fh == None:\n",
      "            raise IOError(\"Could not open \" + flowFile)\n",
      "        self.outfh = open(dotFile, mode='w+')\n",
      "\n",
      "    def findFileName(self, strs):\n",
      "        \"\"\"\n",
      "        Input line looks like this:\n",
      "        {   0} traceIocInit() <int traceIocInit (void) at initTrace.c:19>:\n",
      "\n",
      "        Loop through the words and fint 'at'. Then returns the next word,\n",
      "        which is the file name.\n",
      "        \"\"\"\n",
      "        length = len(strs)\n",
      "        for i in range (length-1,0):\n",
      "            if strs[i] == \"at\":\n",
      "                strs = strs[i+1]\n",
      "                return strs.split(':')[0].trim()                \n",
      "        return \"\"\n",
      "    \n",
      "    def findLevel(self, line):\n",
      "        \"\"\"\n",
      "        Counts how many blanks there are at the beginning of the line\n",
      "        \"\"\"\n",
      "        l = len(line)\n",
      "        for i in range(l):\n",
      "            if line[i] != ' ':\n",
      "                return i\n",
      "        return 0\n",
      "    \n",
      "    def isIgnored(self, name):\n",
      "        \"\"\"\n",
      "        Ignores these library functions, for example\n",
      "        \"\"\"\n",
      "        iList = (\"sqrt\",\"sin\",\"cos\",\"tan\",\n",
      "                 \"exit\",\"atan2\",\"fabs\",\"asin\",\n",
      "                 \"MAX\")\n",
      "        return name in iList\n",
      "\n",
      "    def outputPair(self, fromF, toF):\n",
      "        pair = fromF + toF\n",
      "        if pair in self.pairs:\n",
      "            return False\n",
      "        self.pairs.add(pair)\n",
      "        print(fromF, \"->\", toF, file=self.outfh)\n",
      "        return True\n",
      "        \n",
      "    def process(self, fh, currLevel, currFunc, parent):\n",
      "        ok = 1\n",
      "        while ok == 1:\n",
      "            try:\n",
      "                line = next(fh)\n",
      "                line = line.replace('{','').replace('}','')\n",
      "                strs = line.split ()\n",
      "                level = self.findLevel(line)\n",
      "                # First word is level\n",
      "                func = strs[0]\n",
      "                # Get rid of '()'\n",
      "                func = func.replace (')','').replace('(','')\n",
      "                if self.isIgnored(func):\n",
      "                    continue\n",
      "                \n",
      "                #print (\"here\", level, currLevel, func)\n",
      "                fname = self.findFileName (strs).split ('.')[0]  \n",
      "                # Build a new label with function name and file name.\n",
      "                func = '\"'+func + ' ' + fname + '\"'\n",
      "                #print \"---> \", lastFunc, level, func\n",
      "                if level == 0:\n",
      "                    # Top level. This function is the top function.\n",
      "                    parent = func\n",
      "                    currFunc = func\n",
      "                    currLevel = 0\n",
      "                    continue\n",
      "                elif level == currLevel:\n",
      "                    # Same level. So this is the next function.\n",
      "                    currFunc = func\n",
      "                    self.outputPair(parent, func)\n",
      "                    continue\n",
      "                elif level > currLevel:\n",
      "                    # This last function is calling this function.\n",
      "                    self.outputPair(currFunc, func)\n",
      "                    # Try to see if it goes deeper.\n",
      "                    level1, func1 = self.process(fh, level, func, currFunc)\n",
      "\n",
      "                    if level1 == currLevel:\n",
      "                        self.outputPair(parent,func1)\n",
      "                        currFunc = func1\n",
      "                        continue\n",
      "                    if level1 < currLevel:\n",
      "                        return (level1, func1)\n",
      "                    continue\n",
      "                else:\n",
      "                    return (level, func)\n",
      "            except StopIteration as se:\n",
      "                return (-1, \"\")\n",
      "            except Exception as e:\n",
      "                print (\"Exception\", e);\n",
      "                traceback.print_exc()\n",
      "                return (-1, \"\")\n",
      "    \n",
      "    def genGraph(self):\n",
      "        print (\"\"\"digraph UseGraph {\n",
      "        ratio=fill;\n",
      "        rankdir=LR;\n",
      "        constraint=false;\n",
      "        nodesep=0.1;\n",
      "        edge [dir=forward];\n",
      "        \"\"\", file=self.outfh)\n",
      "        self.process(self.fh, 0, \"\", \"\")\n",
      "        print ('}', file=self.outfh)\n",
      "        self.fh.close()\n",
      "        self.outfh.close()"
     ],
     "language": "python",
     "metadata": {},
     "outputs": [],
     "prompt_number": 38
    },
    {
     "cell_type": "code",
     "collapsed": false,
     "input": [
      "genCallTree = GenCallTree(\"c_code/out.flow\", \"dot.dot\")\n",
      "genCallTree.genGraph()"
     ],
     "language": "python",
     "metadata": {},
     "outputs": [],
     "prompt_number": 39
    },
    {
     "cell_type": "markdown",
     "metadata": {},
     "source": [
      "Use the command dot to create a PNG file."
     ]
    },
    {
     "cell_type": "code",
     "collapsed": false,
     "input": [
      "!/MyApplications/bin/dot -Tpng dot.dot > graph.png"
     ],
     "language": "python",
     "metadata": {},
     "outputs": [],
     "prompt_number": 40
    },
    {
     "cell_type": "code",
     "collapsed": false,
     "input": [
      "# The C-files used here are from the GNU cflow source tar ball. \n",
      "plt.imshow (plt.imread(\"graph.png\"))"
     ],
     "language": "python",
     "metadata": {},
     "outputs": [
      {
       "metadata": {},
       "output_type": "pyout",
       "prompt_number": 41,
       "text": [
        "<matplotlib.image.AxesImage at 0x108d7c7d0>"
       ]
      },
      {
       "metadata": {},
       "output_type": "display_data",
       "png": "[encoded data removed]",
       "text": [
        "<matplotlib.figure.Figure at 0x10784e650>"
       ]
      }
     ],
     "prompt_number": 41
    },
    {
     "cell_type": "markdown",
     "metadata": {},
     "source": [
      "The page was written By Shui Hung Kwok, 2014-06-07."
     ]
    },
    {
     "cell_type": "code",
     "collapsed": false,
     "input": [],
     "language": "python",
     "metadata": {},
     "outputs": [],
     "prompt_number": 41
    }
   ],
   "metadata": {}
  }
 ]
}