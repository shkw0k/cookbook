{
 "metadata": {
  "name": ""
 },
 "nbformat": 3,
 "nbformat_minor": 0,
 "worksheets": [
  {
   "cells": [
    {
     "cell_type": "heading",
     "level": 1,
     "metadata": {},
     "source": [
      "How to create a launcher for ipython"
     ]
    },
    {
     "cell_type": "markdown",
     "metadata": {},
     "source": [
      "If you are using mostly ipython notebook, then it is more convenient to start ipython from the dock.\n",
      "\n",
      "Regardless of the version of python you are using, we can make a lauchner (on OSX) and put it on the dock.\n",
      "Let's call the launcher IPython.app.\n",
      "\n",
      "IPython.app\n",
      "==========\n",
      "\n",
      "In OSX, application bundles are just directories contains everything the application needs. In simplest form, the launncher name is the name of the directory. In that directory, there is another directory called Content and in it, another directory call MacOS.\n",
      "\n",
      "Like this:"
     ]
    },
    {
     "cell_type": "code",
     "collapsed": false,
     "input": [
      "!(cd $HOME/bin; find IPython.app -print)"
     ],
     "language": "python",
     "metadata": {},
     "outputs": [
      {
       "output_type": "stream",
       "stream": "stdout",
       "text": [
        "IPython.app\r\n",
        "IPython.app/Contents\r\n",
        "IPython.app/Contents/MacOS\r\n",
        "IPython.app/Contents/MacOS/IPython\r\n",
        "IPython.app/Icon\r",
        "\r\n"
       ]
      }
     ],
     "prompt_number": 9
    },
    {
     "cell_type": "markdown",
     "metadata": {},
     "source": [
      "The file IPython (in IPython.app/Contents/MacOS/IPython) is the actual file that will be executed. Its name must match the name of the launcher. \n",
      "\n",
      "In general, this file can be a binary executable or a shell script. \n",
      "\n",
      "For this launcher, I wrote a shell script.\n"
     ]
    },
    {
     "cell_type": "code",
     "collapsed": false,
     "input": [
      "!(cd $HOME/bin;  cat IPython.app/Contents/MacOS/IPython)"
     ],
     "language": "python",
     "metadata": {},
     "outputs": [
      {
       "output_type": "stream",
       "stream": "stdout",
       "text": [
        "#!/bin/bash\r\n",
        "\r\n",
        "PATH=\"/MyApplications/anaconda/envs/py3k/bin:/usr/bin:/bin:/usr/sbin:/sbin:/usr/local/bin:/MyApplications/anaconda/bin\"\r\n",
        "export PATH\r\n",
        "\r\n",
        "PYTHONPATH=\"/MyApplications/anaconda/envs/py3k/lib/python3.3\"\r\n",
        "export PYTHONPATH\r\n",
        "\r\n",
        "APPNAME=\"/MyApplications/anaconda/envs/py3k/bin/ipython\"\r\n",
        "\r\n",
        "askUser()\r\n",
        "{\r\n",
        "MSG=\"$*\"\r\n",
        "osascript << LABEL\r\n",
        "tell application \"Finder\"\r\n",
        "    activate\r\n",
        "    set myReply to button returned of (display dialog \"$MSG\")\r\n",
        "end tell    \r\n",
        "LABEL\r\n",
        "}\r\n",
        "\r\n",
        "checkIfRunning()\r\n",
        "{\r\n",
        "    RUNNING=`pgrep -lf $APPNAME`\r\n",
        "    if [ \"x$RUNNING\" != \"x\" ]\r\n",
        "    then\r\n",
        "        RES=`askUser \"$RUNNING.\\n\\nIPython is already runnng.\\nTo kill press OK.\" 2>&1`\r\n",
        "        if [ \"x$RES\" = \"xOK\" ]\r\n",
        "        then\r\n",
        "            pkill -lf $APPNAME > /dev/null 2>&1\r\n",
        "            echo \"OK\"\r\n",
        "        else\r\n",
        "            echo \"NO\"\r\n",
        "        fi\r\n",
        "    else\r\n",
        "        echo \"OK\"\r\n",
        "    fi\r\n",
        "}\r\n",
        "\r\n",
        "if [ `checkIfRunning` = \"OK\" ]\r\n",
        "then\r\n",
        "    cd $HOME/data/notebook\r\n",
        "    $APPNAME notebook --profile=default --no-mathjax> ~/tmp/notebook.log 2>&1\r\n",
        "fi\r\n"
       ]
      }
     ],
     "prompt_number": 29
    },
    {
     "cell_type": "markdown",
     "metadata": {},
     "source": [
      "This is simple shell script. I use bash, but it probably will work with any sh or ksh, but not with the csh family.\n",
      "\n",
      "The function askUser displays a dialog box asking the user to kill the existing process or not.\n",
      "\n",
      "The function checkIfRunning checks whether ipython is already running, if so it call askUser.\n",
      "If the user answers with OK, then the existing running ipython process is killed and a new one started.\n",
      "Otherwise it does nothing and the existing process will continue running. In that case, the user must point the browser to 127.0.0.1:8888 or to the configured URL for ipython notebook."
     ]
    },
    {
     "cell_type": "markdown",
     "metadata": {},
     "source": [
      "The Icon\n",
      "========\n",
      "\n",
      "Once the launcher is ready. The bundle, (ie. IPython.app and all the subdirectories) can be copied to a more permanent place, for example, $HOME/bin, if it is not already there. \n",
      "\n",
      "Next thing to do is to change the icon.\n",
      "\n",
      "1. First, we create a 512x512 pixel image. Either we download the image from the web or we can draw one ourself.\n",
      "1. Next, right click on the launcher and click \"Get info\". A dialog box is then displayed.\n",
      "1. On the top left corner of the dialog box, there is a icon. Single tap on it. It then shows a blue outline.\n",
      "1. Drag the icon image that we just created (or downloaded) on the that icon.\n",
      "1. The new icon is now shown in the dialog box. Also the laucher now shows the new icon in Finder.\n",
      "\n",
      "Last step, is to drag the new launcher to the dock.\n",
      "\n",
      "That is all."
     ]
    },
    {
     "cell_type": "raw",
     "metadata": {},
     "source": [
      "This page was written by Shui Hung Kwok, 2013-11-07."
     ]
    }
   ],
   "metadata": {}
  }
 ]
}