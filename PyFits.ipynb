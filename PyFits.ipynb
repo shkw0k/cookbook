{
 "metadata": {
  "name": ""
 },
 "nbformat": 3,
 "nbformat_minor": 0,
 "worksheets": [
  {
   "cells": [
    {
     "cell_type": "heading",
     "level": 1,
     "metadata": {},
     "source": [
      "How to read FITS files using pyFits."
     ]
    },
    {
     "cell_type": "heading",
     "level": 2,
     "metadata": {},
     "source": [
      "Initial checks"
     ]
    },
    {
     "cell_type": "markdown",
     "metadata": {},
     "source": [
      "To install pyfits:\n",
      "    \n",
      "    easy_install pyfits\n",
      "    \n",
      "At the time of writing, pyfits version is 3.1.2."
     ]
    },
    {
     "cell_type": "code",
     "collapsed": false,
     "input": [
      "import pyfits"
     ],
     "language": "python",
     "metadata": {},
     "outputs": [],
     "prompt_number": 27
    },
    {
     "cell_type": "markdown",
     "metadata": {},
     "source": [
      "If you get an error message above, then pyfits is not installed correctly."
     ]
    },
    {
     "cell_type": "markdown",
     "metadata": {},
     "source": [
      "Alternatively, you can install the astropy package:\n",
      "\n",
      "* easy_install astropy\n",
      "\n",
      "and then use the line below:\n",
      "\n",
      "*import astropy.io.fits as pyfits*"
     ]
    },
    {
     "cell_type": "markdown",
     "metadata": {},
     "source": [
      "##Now, let's see what version of python we are running."
     ]
    },
    {
     "cell_type": "code",
     "collapsed": false,
     "input": [
      "import sys\n",
      "print (sys.version)"
     ],
     "language": "python",
     "metadata": {},
     "outputs": [
      {
       "output_type": "stream",
       "stream": "stdout",
       "text": [
        "3.3.2 |Continuum Analytics, Inc.| (default, Aug  5 2013, 15:07:24) \n",
        "[GCC 4.0.1 (Apple Inc. build 5493)]\n"
       ]
      }
     ],
     "prompt_number": 3
    },
    {
     "cell_type": "markdown",
     "metadata": {},
     "source": [
      "We need some fits files for testing. I have a fits file in the current directory.\n",
      "So let's capture the output of ls in the variable tmp1. The content in tmp1 is a string.\n",
      "File names will be separated by blanks, so split the input and store that in testFiles."
     ]
    },
    {
     "cell_type": "code",
     "collapsed": false,
     "input": [
      "%%capture tmp1\n",
      "!ls *.fits"
     ],
     "language": "python",
     "metadata": {},
     "outputs": [],
     "prompt_number": 4
    },
    {
     "cell_type": "code",
     "collapsed": false,
     "input": [
      "testFiles = str(tmp1).split()\n",
      "print (\"Test files\", testFiles)"
     ],
     "language": "python",
     "metadata": {},
     "outputs": [
      {
       "output_type": "stream",
       "stream": "stdout",
       "text": [
        "Test files ['abel254.fits']\n"
       ]
      }
     ],
     "prompt_number": 28
    },
    {
     "cell_type": "heading",
     "level": 2,
     "metadata": {},
     "source": [
      "Read a fits file"
     ]
    },
    {
     "cell_type": "code",
     "collapsed": false,
     "input": [
      "#hdus = Header and Data Units\n",
      "hdus = pyfits.open(testFiles[0])"
     ],
     "language": "python",
     "metadata": {},
     "outputs": [],
     "prompt_number": 6
    },
    {
     "cell_type": "markdown",
     "metadata": {},
     "source": [
      "So we open the file. The headers are read in, but the data is not read immediately until the it is accessed.\n",
      "\n",
      "The content of the fits file is no in hdus."
     ]
    },
    {
     "cell_type": "code",
     "collapsed": false,
     "input": [
      "hdus.info()"
     ],
     "language": "python",
     "metadata": {},
     "outputs": [
      {
       "output_type": "stream",
       "stream": "stdout",
       "text": [
        "Filename: abel254.fits\n",
        "No.    Name         Type      Cards   Dimensions   Format\n",
        "0    PRIMARY     PrimaryHDU      58   (300, 300)   float32   \n"
       ]
      }
     ],
     "prompt_number": 7
    },
    {
     "cell_type": "heading",
     "level": 2,
     "metadata": {},
     "source": [
      "Fits header"
     ]
    },
    {
     "cell_type": "markdown",
     "metadata": {},
     "source": [
      "Get the first hdu and see what is in the header."
     ]
    },
    {
     "cell_type": "code",
     "collapsed": false,
     "input": [
      "hdu = hdus[0]"
     ],
     "language": "python",
     "metadata": {},
     "outputs": [],
     "prompt_number": 8
    },
    {
     "cell_type": "code",
     "collapsed": false,
     "input": [
      "header = hdu.header"
     ],
     "language": "python",
     "metadata": {},
     "outputs": [],
     "prompt_number": 9
    },
    {
     "cell_type": "markdown",
     "metadata": {},
     "source": [
      "header can be addressed by card name or by index."
     ]
    },
    {
     "cell_type": "code",
     "collapsed": false,
     "input": [
      "print (header[3], \"is equal to\", header['NAXIS2'])"
     ],
     "language": "python",
     "metadata": {},
     "outputs": [
      {
       "output_type": "stream",
       "stream": "stdout",
       "text": [
        "300 is equal to 300\n"
       ]
      }
     ],
     "prompt_number": 10
    },
    {
     "cell_type": "markdown",
     "metadata": {},
     "source": [
      "We can add new cards. Card names are case insensitive."
     ]
    },
    {
     "cell_type": "code",
     "collapsed": false,
     "input": [
      "header['MYCARD'] = 'some value'"
     ],
     "language": "python",
     "metadata": {},
     "outputs": [],
     "prompt_number": 11
    },
    {
     "cell_type": "code",
     "collapsed": false,
     "input": [
      "print (header['mycard'], \"<--- is same as --->\", header['MYCARD'])\n"
     ],
     "language": "python",
     "metadata": {},
     "outputs": [
      {
       "output_type": "stream",
       "stream": "stdout",
       "text": [
        "some value <--- is same as ---> some value\n"
       ]
      }
     ],
     "prompt_number": 12
    },
    {
     "cell_type": "markdown",
     "metadata": {},
     "source": [
      "Some useful methods."
     ]
    },
    {
     "cell_type": "code",
     "collapsed": false,
     "input": [
      "header.add_blank()\n",
      "header.add_comment(\"New comment\")\n",
      "header.add_history(\"Last changed now\")"
     ],
     "language": "python",
     "metadata": {},
     "outputs": [],
     "prompt_number": 13
    },
    {
     "cell_type": "markdown",
     "metadata": {},
     "source": [
      "We can get just the cards as a list."
     ]
    },
    {
     "cell_type": "code",
     "collapsed": false,
     "input": [
      "cards = header.ascardlist()\n",
      "print (cards.keys(), cards.values())\n",
      "# Note the new cards at the end of the lists."
     ],
     "language": "python",
     "metadata": {},
     "outputs": [
      {
       "output_type": "stream",
       "stream": "stdout",
       "text": [
        "['SIMPLE', 'BITPIX', 'NAXIS', 'NAXIS1', 'NAXIS2', 'CTYPE1', 'CTYPE2', 'CRVAL1', 'CRVAL2', 'CRPIX1', 'CRPIX2', 'CDELT1', 'CDELT2', 'CROTA1', 'EQUINOX', 'COMMENT', 'COMMENT', 'COMMENT', 'COMMENT', 'COMMENT', 'COMMENT', 'COMMENT', 'COMMENT', 'COMMENT', 'COMMENT', 'COMMENT', 'COMMENT', 'COMMENT', 'COMMENT', 'COMMENT', 'COMMENT', 'COMMENT', 'COMMENT', 'COMMENT', 'COMMENT', 'COMMENT', 'SURVEY', 'ORIGIN', 'COMMENT', 'TELESCOP', 'SITELONG', 'SITELAT', 'SCANIMG', 'MYCARD', 'COMMENT', 'COMMENT', 'COMMENT', 'COMMENT', 'COMMENT', 'COMMENT', 'COMMENT', 'COMMENT', 'COMMENT', 'COMMENT', 'COMMENT', 'COMMENT', 'COMMENT', 'COMMENT', 'COMMENT', 'COMMENT', 'HISTORY'] [True, -32, 2, 300, 300, 'RA---TAN', 'DEC--TAN', 26.8083, -3.2842, 150.5, 150.5, -0.000833333, 0.000833333, 0.0, 2000.0, '', 'This file was produced by the SkyView survey analysis system from', 'available astronomical surveys.  The data are formatted', 'as a simple two-dimensional FITS image with the same units as', 'the orginal survey.  A single ASCII table extension may be present', 'which describes catalog objects found within the field of view.', 'Copies of relevant copyright notices are included in this file.', '', 'Questions should be directed to:', '', '    lmm@skyview.gsfc.nasa.gov', '         or', '    mcglynn@grossc.gsfc.nasa.gov', '', '    SkyView', '    Code 660.2', '    Goddard Space Flight Center, Greenbelt, MD 20771', '    301-286-7780', '', 'SkyView is supported by NASA ADP grant NAS 5-32068.', '', 'Digitized Sky Survey', 'CASB -- STScI', '  Note these values refer to Southern plates.', 'UK Schmidt (new optics)', '+149:03:42.00', '-31:16:24.00', 'CASB -- STScI', 'some value', ' Properties of original survey:', ' Provenance - Data taken by Royal Observatory of Edinburgh and AAO,', '   Compression and', '   distribution by Space Telescope Science Institute.', ' Copyright - Space Telescope Science Institute and', '   AAO, UK-PPART and ROE, restrictions on data transmissions', '   prior to June, 1995.', ' Frequency- 600 THz (J band image)', ' Pixel Scale - 1.7\".', ' Pixel Units - Pixel values are given as scaled densities.', ' Resolution - Depends on plate. Typically 2\" or better.', ' Coordinate system - Equatorial', ' Projection - Schmidt', ' Equinox - 2000', ' Epoch - 1973-1994', 'New comment', 'Last changed now']\n"
       ]
      }
     ],
     "prompt_number": 14
    },
    {
     "cell_type": "heading",
     "level": 2,
     "metadata": {},
     "source": [
      "Show me the data"
     ]
    },
    {
     "cell_type": "code",
     "collapsed": false,
     "input": [
      "data = hdus[0].data"
     ],
     "language": "python",
     "metadata": {},
     "outputs": [],
     "prompt_number": 15
    },
    {
     "cell_type": "markdown",
     "metadata": {},
     "source": [
      "What is data?"
     ]
    },
    {
     "cell_type": "code",
     "collapsed": false,
     "input": [
      "print (type(data), data.shape, data.dtype.name)"
     ],
     "language": "python",
     "metadata": {},
     "outputs": [
      {
       "output_type": "stream",
       "stream": "stdout",
       "text": [
        "<class 'numpy.ndarray'> (300, 300) float32\n"
       ]
      }
     ],
     "prompt_number": 16
    },
    {
     "cell_type": "markdown",
     "metadata": {},
     "source": [
      "Use indices to access the individual pixels."
     ]
    },
    {
     "cell_type": "code",
     "collapsed": false,
     "input": [
      "print (data[3,50], data[3][50]) \n",
      "# row = 3, column = 50"
     ],
     "language": "python",
     "metadata": {},
     "outputs": [
      {
       "output_type": "stream",
       "stream": "stdout",
       "text": [
        "5429.0 5429.0\n"
       ]
      }
     ],
     "prompt_number": 17
    },
    {
     "cell_type": "markdown",
     "metadata": {},
     "source": [
      "What are the mean, standard deviation, minimal and maximal values ?"
     ]
    },
    {
     "cell_type": "code",
     "collapsed": false,
     "input": [
      "print (\"mean=\", data.mean())\n",
      "print (\"stdv=\", data.std())\n",
      "print (\"min value=\", data.min())\n",
      "print (\"max value=\", data.max())"
     ],
     "language": "python",
     "metadata": {},
     "outputs": [
      {
       "output_type": "stream",
       "stream": "stdout",
       "text": [
        "mean= 5697.72408889\n",
        "stdv= 705.813389754\n",
        "min value= 3817.0\n",
        "max value= 18434.0\n"
       ]
      }
     ],
     "prompt_number": 18
    },
    {
     "cell_type": "markdown",
     "metadata": {},
     "source": [
      "This page was created by Shui Hung Kwok, 2013-11-08."
     ]
    }
   ],
   "metadata": {}
  }
 ]
}