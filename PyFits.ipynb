{
 "metadata": {
  "name": "Testme"
 },
 "nbformat": 3,
 "nbformat_minor": 0,
 "worksheets": [
  {
   "cells": [
    {
     "cell_type": "heading",
     "level": 1,
     "metadata": {},
     "source": [
      "How to read FITS files using pyFits."
     ]
    },
    {
     "cell_type": "heading",
     "level": 2,
     "metadata": {},
     "source": [
      "Initial checks"
     ]
    },
    {
     "cell_type": "markdown",
     "metadata": {},
     "source": [
      "To install pyfits:\n",
      "    \n",
      "    easy_install pyfits\n",
      "    \n",
      "At the time of writing, pyfits version is 3.1.2."
     ]
    },
    {
     "cell_type": "code",
     "collapsed": false,
     "input": [
      "import pyfits"
     ],
     "language": "python",
     "metadata": {},
     "outputs": [],
     "prompt_number": 1
    },
    {
     "cell_type": "markdown",
     "metadata": {},
     "source": [
      "If you get an error message above, then pyfits is not installed correctly."
     ]
    },
    {
     "cell_type": "markdown",
     "metadata": {},
     "source": [
      "Now, let's see what version of python we are running."
     ]
    },
    {
     "cell_type": "code",
     "collapsed": false,
     "input": [
      "import sys\n",
      "print (sys.version)"
     ],
     "language": "python",
     "metadata": {},
     "outputs": [
      {
       "output_type": "stream",
       "stream": "stdout",
       "text": [
        "3.3.2 |Continuum Analytics, Inc.| (default, Aug  5 2013, 15:07:24) \n",
        "[GCC 4.0.1 (Apple Inc. build 5493)]\n"
       ]
      }
     ],
     "prompt_number": 2
    },
    {
     "cell_type": "markdown",
     "metadata": {},
     "source": [
      "We need some fits files for testing. I have some fits files in the directory '../fits/'."
     ]
    },
    {
     "cell_type": "code",
     "collapsed": false,
     "input": [
      "%%capture tmp1\n",
      "!ls ../fits/*.fits"
     ],
     "language": "python",
     "metadata": {},
     "outputs": [],
     "prompt_number": 3
    },
    {
     "cell_type": "code",
     "collapsed": false,
     "input": [
      "testFiles = str(tmp1).split()\n",
      "print (\"Test files\", testFiles)"
     ],
     "language": "python",
     "metadata": {},
     "outputs": [
      {
       "output_type": "stream",
       "stream": "stdout",
       "text": [
        "Test files ['../fits/mosfireFF000_0000.fits', '../fits/mosfireFF002_0000.fits', '../fits/mosfireFF001_0000.fits', '../fits/mosfireFF003_0000.fits']\n"
       ]
      }
     ],
     "prompt_number": 4
    },
    {
     "cell_type": "heading",
     "level": 2,
     "metadata": {},
     "source": [
      "Read a fits file"
     ]
    },
    {
     "cell_type": "code",
     "collapsed": false,
     "input": [
      "#hdus = Header and Data Units\n",
      "hdus = pyfits.open(testFiles[0])"
     ],
     "language": "python",
     "metadata": {},
     "outputs": [],
     "prompt_number": 5
    },
    {
     "cell_type": "markdown",
     "metadata": {},
     "source": [
      "So we open the file. The headers are read in, but the data is not read immediately until the it is accessed.\n",
      "\n",
      "The content of the fits file is no in hdus."
     ]
    },
    {
     "cell_type": "code",
     "collapsed": false,
     "input": [
      "hdus.info()"
     ],
     "language": "python",
     "metadata": {},
     "outputs": [
      {
       "output_type": "stream",
       "stream": "stdout",
       "text": [
        "Filename: ../fits/mosfireFF000_0000.fits\n",
        "No.    Name         Type      Cards   Dimensions   Format\n",
        "0    PRIMARY     PrimaryHDU     127   (512, 512)   int16   \n"
       ]
      }
     ],
     "prompt_number": 6
    },
    {
     "cell_type": "heading",
     "level": 2,
     "metadata": {},
     "source": [
      "Fits header"
     ]
    },
    {
     "cell_type": "markdown",
     "metadata": {},
     "source": [
      "Get the first hdu and see what is in the header."
     ]
    },
    {
     "cell_type": "code",
     "collapsed": false,
     "input": [
      "hdu = hdus[0]"
     ],
     "language": "python",
     "metadata": {},
     "outputs": [],
     "prompt_number": 7
    },
    {
     "cell_type": "code",
     "collapsed": false,
     "input": [
      "header = hdu.header"
     ],
     "language": "python",
     "metadata": {},
     "outputs": [],
     "prompt_number": 8
    },
    {
     "cell_type": "markdown",
     "metadata": {},
     "source": [
      "header can be addressed by card name or by index."
     ]
    },
    {
     "cell_type": "code",
     "collapsed": false,
     "input": [
      "print (header[3], \"is equal to\", header['NAXIS2'])"
     ],
     "language": "python",
     "metadata": {},
     "outputs": [
      {
       "output_type": "stream",
       "stream": "stdout",
       "text": [
        "512 is equal to 512\n"
       ]
      }
     ],
     "prompt_number": 9
    },
    {
     "cell_type": "markdown",
     "metadata": {},
     "source": [
      "We can add new cards. Card names are case insensitive."
     ]
    },
    {
     "cell_type": "code",
     "collapsed": false,
     "input": [
      "header['MYCARD'] = 'some value'"
     ],
     "language": "python",
     "metadata": {},
     "outputs": [],
     "prompt_number": 10
    },
    {
     "cell_type": "code",
     "collapsed": false,
     "input": [
      "print (header['mycard'], \"<--- is same as --->\", header['MYCARD'])\n"
     ],
     "language": "python",
     "metadata": {},
     "outputs": [
      {
       "output_type": "stream",
       "stream": "stdout",
       "text": [
        "some value <--- is same as ---> some value\n"
       ]
      }
     ],
     "prompt_number": 11
    },
    {
     "cell_type": "markdown",
     "metadata": {},
     "source": [
      "Some useful methods."
     ]
    },
    {
     "cell_type": "code",
     "collapsed": false,
     "input": [
      "header.add_blank()\n",
      "header.add_comment(\"New comment\")\n",
      "header.add_history(\"Last changed now\")"
     ],
     "language": "python",
     "metadata": {},
     "outputs": [],
     "prompt_number": 12
    },
    {
     "cell_type": "markdown",
     "metadata": {},
     "source": [
      "We can get just the cards as a list."
     ]
    },
    {
     "cell_type": "code",
     "collapsed": false,
     "input": [
      "cards = header.ascardlist()\n",
      "print (cards.keys(), cards.values())\n",
      "# Note the new cards at the end of the lists."
     ],
     "language": "python",
     "metadata": {},
     "outputs": [
      {
       "output_type": "stream",
       "stream": "stdout",
       "text": [
        "['SIMPLE', 'BITPIX', 'NAXIS', 'NAXIS1', 'NAXIS2', 'BZERO', 'BSCALE', 'BINNING', 'TARGPMRA', 'CURRINST', 'RAOFF', 'CTYPE2', 'TVFLIP', 'CTYPE1', 'ROTMODE', 'TARGEQUI', 'POYPOS9', 'TARGRA', 'POXPOS', 'POYPOS8', 'POYPOS7', 'POYPOS6', 'PONAME9', 'POYPOS5', 'PONAME8', 'TARGEPOC', 'POYPOS4', 'PONAME7', 'FOCALSTN', 'POYPOS3', 'PONAME6', 'POYPOS', 'POYPOS2', 'PONAME5', 'TARGNAME', 'POYPOS1', 'PONAME4', 'PONAME3', 'PONAME2', 'PARANTEL', 'PONAME1', 'DCSSTAT', 'TVANGL', 'DECOFF', 'DOMESTAT', 'PARANG', 'TARGPMDC', 'POXPOS9', 'POXPOS8', 'POXPOS7', 'TARGFRAM', 'POXPOS6', 'POXPOS5', 'POXPOS4', 'POXPOS3', 'POXPOS2', 'DEC', 'POXPOS1', 'CRPIX2', 'CRPIX1', 'TELFOCUS', 'UTC', 'RA', 'CUNIT2', 'CUNIT1', 'EL', 'TUBETEMP', 'DOMEPOSN', 'AIRMASS', 'ROTREFAN', 'SECFOCUS', 'INSTFLIP', 'EQUINOX', 'CELOCAL', 'RADECSYS', 'TVANDEF', 'MJD-OBS', 'TARGRADV', 'YPXSZ', 'TELESCOP', 'INSTANGL', 'AXESTAT', 'ROTDEST', 'CAMPORG', 'POXOFF', 'ROTPOSN', 'CRVAL2', 'POYOFF', 'CRVAL1', 'TARGPLAX', 'PONAME', 'LST', 'SECTHETY', 'SECTHETX', 'DATE', 'DATE-OBS', 'XPXSZ', 'CAMREFY', 'CAMREFX', 'ROTPDEST', 'CD2_2', 'TARGDEC', 'CD2_1', 'CALOCAL', 'PMFM', 'ROTPPOSN', 'CD1_2', 'CD1_1', 'CAMBIN', 'HA', 'AZ', 'DCSVERS', 'ROTCALAN', 'CAMNAME', 'FRAME', 'WINDOW', 'FILTER0', 'CAMFOCUS', 'IQLPOS', 'TTIME', 'CAMBIAS0', 'CAMBIAS1', 'CAMGAIN', 'TEMP1', 'TEMP2', 'TEMP3', 'TEMP4', 'MYCARD', 'COMMENT', 'HISTORY'] [True, 16, 2, 512, 512, 0, 1, 2, 0, 'MOSFIRE', 0.0, 'DEC--TAN', 'no', 'RA---TAN', 'POSITION_ANGLE', 2000, 0, 2.295008, -0.002, 0, 0, 0, '<udf>', 0, '<udf>', 2000, 0.002, '<udf>', 'Cassegrain', 0, '<udf>', 0, 0, '<udf>', 'uds1310_H1', 0.2912, 'SLIT', 'MIRA', 'MOSFIRE', -40.608681, 'REF', 'RUNNING', 89.81772, 0.0, 'Tracking', -40.63327, 0, 0, 0, 0, 'FK5', 0, 0, -0.0004, -0.002, -0.002, -5.190964, -0.0065, 256, 256, 0.641173, '9:35:01.400', 34.425125, 'degree', 'degree', 56.845039, 2.63253, 136.47835, 1.1940341133, 0.0, -0.045467, 'no', 2000, 0.0001323423484, 'FK5', 89.8177, 56580.399321, 0, 0.164, 'Keck I', 0.2, 'TRACKING', -72.0, 'ref', 0, -72.00019, -5.154902, 0, 34.319132, 0.0, 'MOSFIRE', 0.824336, -38.000763, -21.295254, '2013-10-15', '2013-10-15', 0.164, 512, 512, -31.391319, 8.657389e-05, -5.190964, -2.839358e-05, -6.2869351405e-05, 0.0, -31.391127, 2.839358e-05, 8.657389e-05, 2, -1.482694, 136.485009, '7-2-0', 0.0, 'mosfire', 'GFF', '0,0,512,512', 'ND3', 14, 'IQL_POS_UNKNOWN', 1.0, 402, 397, 3, 37.4, -33.4, -32.6, -99.0, 'some value', 'New comment', 'Last changed now']\n"
       ]
      }
     ],
     "prompt_number": 13
    },
    {
     "cell_type": "heading",
     "level": 2,
     "metadata": {},
     "source": [
      "Show me the data"
     ]
    },
    {
     "cell_type": "code",
     "collapsed": false,
     "input": [
      "data = hdus[0].data"
     ],
     "language": "python",
     "metadata": {},
     "outputs": [],
     "prompt_number": 14
    },
    {
     "cell_type": "markdown",
     "metadata": {},
     "source": [
      "What is data?"
     ]
    },
    {
     "cell_type": "code",
     "collapsed": false,
     "input": [
      "print (type(data), data.shape, data.dtype.name)"
     ],
     "language": "python",
     "metadata": {},
     "outputs": [
      {
       "output_type": "stream",
       "stream": "stdout",
       "text": [
        "<class 'numpy.ndarray'> (512, 512) int16\n"
       ]
      }
     ],
     "prompt_number": 15
    },
    {
     "cell_type": "markdown",
     "metadata": {},
     "source": [
      "Use indices to access the individual pixels."
     ]
    },
    {
     "cell_type": "code",
     "collapsed": false,
     "input": [
      "print (data[3,50], data[3][50]) \n",
      "# row = 3, column = 50"
     ],
     "language": "python",
     "metadata": {},
     "outputs": [
      {
       "output_type": "stream",
       "stream": "stdout",
       "text": [
        "134 134\n"
       ]
      }
     ],
     "prompt_number": 16
    },
    {
     "cell_type": "markdown",
     "metadata": {},
     "source": [
      "What are the mean, standard deviation, minimal and maximal values ?"
     ]
    },
    {
     "cell_type": "code",
     "collapsed": false,
     "input": [
      "print (\"mean=\", data.mean())\n",
      "print (\"stdv=\", data.std())\n",
      "print (\"min value=\", data.min())\n",
      "print (\"max value=\", data.max())"
     ],
     "language": "python",
     "metadata": {},
     "outputs": [
      {
       "output_type": "stream",
       "stream": "stdout",
       "text": [
        "mean= 133.109970093\n",
        "stdv= 2.08413518499\n",
        "min value= 125\n",
        "max value= 375\n"
       ]
      }
     ],
     "prompt_number": 17
    },
    {
     "cell_type": "code",
     "collapsed": false,
     "input": [],
     "language": "python",
     "metadata": {},
     "outputs": [],
     "prompt_number": 17
    }
   ],
   "metadata": {}
  }
 ]
}
