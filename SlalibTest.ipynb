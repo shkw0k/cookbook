{
 "metadata": {
  "name": "",
  "signature": "sha256:a7f963d5df89fc3d4c2d9c49f1ed8fb4fd9eb7f0bab05e52d4a25159e0d67062"
 },
 "nbformat": 3,
 "nbformat_minor": 0,
 "worksheets": [
  {
   "cells": [
    {
     "cell_type": "code",
     "collapsed": false,
     "input": [
      "import sys\n",
      "import math\n",
      "from ctypes import *"
     ],
     "language": "python",
     "metadata": {},
     "outputs": [],
     "prompt_number": 5
    },
    {
     "cell_type": "markdown",
     "metadata": {},
     "source": [
      "# How to call function from a C-library\n",
      "\n",
      "This example show how call a function from an external libray with a C-API.\n",
      "In this case, we will use the SLALIB library (see https://en.wikipedia.org/wiki/Starlink_Project).\n",
      "\n",
      "In SLALIB, there is the function to calculate the Modified Julian Date.\n",
      "The C prototype declartion is:\n",
      "\n",
      "###void slaCaldj ( int iy, int im, int id, double *djm, int *j )\n",
      "\n",
      "We will write a python function that takes the year, month and day and returns the status and the MJD.\n",
      "\n",
      "## Ctypes\n",
      "Using the ctypes module, we convert the input parameter to corresponding types that the C-function understands.\n",
      "For output parameters that are passed by reference (via pointer), we use the byref function.\n",
      "\n",
      "###Note:\n",
      "The library libsla.dylib is the OSX version. \n",
      "On Unix-like systems, it may be called libsla.so. \n",
      "On Windows, it may be called libsla.dll."
     ]
    },
    {
     "cell_type": "code",
     "collapsed": false,
     "input": [
      "Slalib = CDLL (\"libsla.dylib\")\n",
      "\n",
      "def slaCaldj (yy, mm, dd):\n",
      "    mjd = c_double(0) # initialize with some dummy value, ie 0\n",
      "    status = c_int(-1) # initialize with default status, ie -1\n",
      "    Slalib.slaCaldj (c_int(yy), c_int(mm), c_int(dd), byref (mjd), byref(status))\n",
      "    return status.value, mjd.value"
     ],
     "language": "python",
     "metadata": {},
     "outputs": [],
     "prompt_number": 8
    },
    {
     "cell_type": "code",
     "collapsed": false,
     "input": [
      "# For example: 2014 05 26\n",
      "status, mjd = slaCaldj(14, 5, 26)\n",
      "print (\"status=%d, mjd=%f\" % (status, mjd))\n"
     ],
     "language": "python",
     "metadata": {},
     "outputs": [
      {
       "output_type": "stream",
       "stream": "stdout",
       "text": [
        "status=0, mjd=56803.000000\n"
       ]
      }
     ],
     "prompt_number": 14
    },
    {
     "cell_type": "markdown",
     "metadata": {},
     "source": [
      "The page was written by Shui Hung Kwok, 2014-06-01."
     ]
    },
    {
     "cell_type": "code",
     "collapsed": false,
     "input": [],
     "language": "python",
     "metadata": {},
     "outputs": []
    }
   ],
   "metadata": {}
  }
 ]
}