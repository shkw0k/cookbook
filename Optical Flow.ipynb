{
 "metadata": {
  "name": ""
 },
 "nbformat": 3,
 "nbformat_minor": 0,
 "worksheets": [
  {
   "cells": [
    {
     "cell_type": "markdown",
     "metadata": {},
     "source": [
      "# How to use Lucas-Kanade algorithm to find motion in a stream of images\n",
      "\n",
      "This is an example of the Lucas-Kanade algorithm to calculate the optical flow of a sequence of images.\n",
      "In this case, the image stream is obtained from an IP camera (foscam). We construct a generator that delivers one jpeg image per iteration. Then the image is converted to black and white using the Python Image Library, PIL, and the result converted to a numpy ndarray and passed to the function calcUV, which implements the Lucas-Kanade algorithm. \n"
     ]
    },
    {
     "cell_type": "code",
     "collapsed": false,
     "input": [
      "import sys,math,time\n",
      "from urllib.request import urlopen\n",
      "from io import BytesIO\n",
      "import base64\n",
      "import numpy as np\n",
      "from IPython.core.display import HTML, display, clear_output\n",
      "import PIL.Image as PImage"
     ],
     "language": "python",
     "metadata": {},
     "outputs": [],
     "prompt_number": 1
    },
    {
     "cell_type": "markdown",
     "metadata": {},
     "source": [
      "The Foscam class handles the interface with the IP camera. Any interface that can deliver image can be used here. I use an IP camera because, it is easy to get images via HTTP and I don't have to use any third party software and drivers. Also I can put the camera any where because it has a wireless connection.\n",
      "\n",
      "The important method here is getStream()."
     ]
    },
    {
     "cell_type": "code",
     "collapsed": false,
     "input": [
      "FOSCAMIP = \"192.168.201.7\"\n",
      "\n",
      "class Foscam:\n",
      "    \"\"\" Foscam class to read images from the foscam IP camera\n",
      "    \"\"\"\n",
      "    def __init__(self, ip = FOSCAMIP):\n",
      "        # resolution: 8=320x244, 32=640x488\n",
      "        self.hostIP = ip\n",
      "        self.irOnOff (False)\n",
      "\n",
      "    def irOnOff (self, onOff):\n",
      "        self.decoderCtrl (95 if onOff else 94)\n",
      "\n",
      "    def decoderCtrl (self, cmd):\n",
      "        url = \"http://%s/decoder_control.cgi?command=%d&user=operator&pwd=\" % (self.hostIP, cmd)\n",
      "        fh = urlopen (url)\n",
      "        fh.read ()\n",
      "        \n",
      "    def getImage (self, resol=8):    \n",
      "        \"\"\"\n",
      "        resolution 4: 160x120, 8: 320x244, 16: 352x288, 32: 640x488\n",
      "        Returns the lastest image from camera and the BW version\n",
      "        \"\"\"\n",
      "        # Convert to B&W image\n",
      "        url = \"http://%s/snapshot.cgi?resolution=%d&user=guest&pwd=\" % (self.hostIP, resol)\n",
      "        fh = urlopen (url)\n",
      "        return fh.read ()\n",
      "\n",
      "    def getStream (self, rate, resol=8):\n",
      "        \"\"\"\n",
      "        This is a generator.\n",
      "        rate: 0=30fps, 1=15fps, 2=12fps, 5=9fps, 10=5fps, 15=1fps at resolution=4 (160x120 px)\\n\",\n",
      "        Reads a stream of jpeg images\n",
      "        This is a multi-body HTTP response.\n",
      "        First element is a marker, followed by a few headers (content-type, content-length).\n",
      "        Then the body data.\n",
      "        Then repeat.\n",
      "        \"\"\"\n",
      "        url = \"http://%s/videostream.cgi?rate=%d&resolution=%d&user=guest&pwd=\" % (self.hostIP, rate, resol)\n",
      "        fh = urlopen (url)\n",
      "        while True:\n",
      "            marker = fh.readline ()\n",
      "            contentType = fh.readline ()\n",
      "            contentLength = fh.readline ()\n",
      "            dummy = fh.readline()\n",
      "            parts = contentLength.strip().split()\n",
      "            buf = fh.read (int(parts[1]))\n",
      "            dummy = fh.readline()\n",
      "            yield buf\n",
      "        "
     ],
     "language": "python",
     "metadata": {},
     "outputs": [],
     "prompt_number": 2
    },
    {
     "cell_type": "markdown",
     "metadata": {},
     "source": [
      "This is the implementation of the optical flow equation. First, we calculate the difference of the rows and sum consecutive columns. Then, we do the same for columns, namely, calculate the difference of the columns and then sum consecutive rows. What we really want to do is to average the differences of rows and columns, but here we are saving the division by 2.\n",
      "Next we calculate the difference between consecutive frames and sum neigboring pixels. To each pixel, we add the pixels in the next column, the pixel below and its neighbor in the next columns. Again, we actually want the average of the 4 pixles, bue we are saving the division by 4.\n",
      "\n",
      "Next, we divide the entire image into small regions. We determine the velocities U and V for each region. Assuming that U and V have the similar values for each pixel within the region, we can determine the best U and V values in the least square sense.\n",
      "\n",
      "The result of calcUV is a list of tuples (x,y,u,v), where u,v are velocities and x and y represent the position of the region."
     ]
    },
    {
     "cell_type": "code",
     "collapsed": false,
     "input": [
      "def calcUV (imgBW, lastImg, ndivs):\n",
      "    def limit(x, lo, hi):\n",
      "        return max(min(x, hi), lo)\n",
      "    \n",
      "    \"\"\"\n",
      "    Calculates the optical flow based on Lucas-Kanade algorithm.\n",
      "    imgBW: input image\n",
      "    lastImg: last input image\n",
      "    ndivs: number of divisions in one dimension\n",
      "    Outputs the list of tuples (x,y,u,v), where u,v are velocities in x,y directions\n",
      "    \"\"\"\n",
      "    out = []\n",
      "    ra0 = np.diff(imgBW, axis=0)\n",
      "    dyi = (ra0[:,:-1] + ra0[:,1:])\n",
      "\n",
      "    ra1 = np.diff(imgBW, axis=1)\n",
      "    dxi = (ra1[:-1,:] + ra1[1:,:])\n",
      "\n",
      "    diff = lastImg - imgBW\n",
      "    s1 = diff[:-1,:] + diff[1:,:]\n",
      "    dt = s1[:,1:] + s1[:,:-1:]\n",
      "\n",
      "    h, w = imgBW.shape\n",
      "    bsize = (h if h > w else w) // ndivs\n",
      "    bhalf = bsize // 2\n",
      "    b6 = 1 #bsize\n",
      "\n",
      "    epsilon = 1E-2\n",
      "\n",
      "    for x in range (0, w-bsize, bsize):\n",
      "        for y in range (0, h-bsize, bsize):\n",
      "            rx = dxi[y:y+bsize, x:x+bsize]\n",
      "            ry = dyi[y:y+bsize, x:x+bsize]\n",
      "            rt = dt[y:y+bsize, x:x+bsize]\n",
      "            rx2 = (rx * rx).sum()\n",
      "            ry2 = (ry * ry).sum()\n",
      "            rxy2 = (rx * ry).sum()\n",
      "            tx = (rx * rt).sum()\n",
      "            ty = (ry * rt).sum()\n",
      "            det = 0.5 * (rx2 * ry2 - rxy2 * rxy2)\n",
      "            if abs(det) > epsilon:\n",
      "                u = limit((tx * ry2 - ty * rxy2)/det*b6, -bhalf, bhalf)\n",
      "                v = limit((rx2 * ty - rxy2 * tx)/det*b6, -bhalf, bhalf) \n",
      "            else:\n",
      "                u = v = 0\n",
      "            out.append ((x+bhalf, y+bhalf, u, v))\n",
      "    return out"
     ],
     "language": "python",
     "metadata": {},
     "outputs": [],
     "prompt_number": 3
    },
    {
     "cell_type": "markdown",
     "metadata": {},
     "source": [
      "We wrap our test loop in function so that we can call it with different parameters. In the loop, we read one image, calculate the velocities and display the image and the velocities."
     ]
    },
    {
     "cell_type": "code",
     "collapsed": false,
     "input": [
      "def mainLoop(imgId, maxSecs=10, ndivs=20, rate=10, resol=8):\n",
      "    gt = time.time\n",
      "    time0 = gt()\n",
      "    time1 = time0\n",
      "    cnt = 0\n",
      "    try:\n",
      "        foscam = Foscam(FOSCAMIP)\n",
      "        getImage = foscam.getStream(rate, resol)\n",
      "        lastImage = toBW(next(getImage))\n",
      "        while time1 - time0 < maxSecs:\n",
      "            jpgImg = next(getImage)\n",
      "            img = toBW(jpgImg)\n",
      "            h, w = img.shape\n",
      "            vels = calcUV(img, lastImage, ndivs)\n",
      "            displayImage(imgId, jpgImg, w, h)\n",
      "            displayMotion (vels)\n",
      "            clear_output()\n",
      "            lastImage = img\n",
      "            cnt += 1\n",
      "            time1 = gt()\n",
      "    except KeyboardInterrupt as ke:\n",
      "        print (\"kerror\", ke)\n",
      "        pass\n",
      "    except Exception as e:\n",
      "        print (\"error\", e)\n",
      "    time1 = gt()\n",
      "    print (\"Frames per sec= %.2f\" % (cnt/(time1-time0)))\n",
      "    "
     ],
     "language": "python",
     "metadata": {},
     "outputs": [],
     "prompt_number": 4
    },
    {
     "cell_type": "markdown",
     "metadata": {},
     "source": [
      "To display the image, we encode the image data, which is a jpeg image, as Base64 and wrap it as javascript and send it to the browser. Similarly, to display the velocity field, we embed the velocities values in javascript code and send it to the browser. The Python function calls the javascript function drawMotion()."
     ]
    },
    {
     "cell_type": "code",
     "collapsed": false,
     "input": [
      "def displayImage (imgId, imgData, width, height):\n",
      "    \"\"\"\n",
      "    This helper function displays the image using the given image element identified by 'imgId'.\n",
      "    The data in imgData is expected to be raw jpeg. \n",
      "    We encode the raw data using base64 and pass it to the browser via javascript.\n",
      "    \"\"\"\n",
      "    buf1 = base64.b64encode(imgData)\n",
      "    imgE = buf1.decode('ascii')\n",
      "    a = display(HTML(\"<script type='text/javascript'>\\\n",
      "    c.width=%d; c.height=%d;\\\n",
      "    ib.src='data:image/jpeg;base64,%s';\\\n",
      "    ctx.drawImage(ib, 0, 0);\\\n",
      "    </script>\" % (width, height, imgE)))\n",
      "    return\n",
      "\n",
      "def displayMotion (motionV):\n",
      "    buf = [ \"[%d,%d,%d,%d]\" % t for t in motionV ]\n",
      "    a = display(HTML (\"<script type='text/javascript'>\\\n",
      "    drawMotion([%s]);\\\n",
      "    </script>\" % (\",\".join(buf))))\n",
      "    return\n",
      "\n",
      "def toBW(jpgImg):\n",
      "    \"\"\"\n",
      "    Converts jpgImg to a black and white image\n",
      "    Returns image as a ndarray of the shape matching the input image\n",
      "    \"\"\"\n",
      "    img = PImage.open(BytesIO(jpgImg))\n",
      "    w, h = img.size\n",
      "    return np.array(img.convert(\"L\").getdata()).reshape((h, w))"
     ],
     "language": "python",
     "metadata": {},
     "outputs": [],
     "prompt_number": 5
    },
    {
     "cell_type": "markdown",
     "metadata": {},
     "source": [
      "Here, we setup a placeholder for the image and call it 'imageId'.\n",
      "\n",
      "Note that the image is actually drawn on a canvas element. The img element is hidden. Using the canvas element enable us to draw the velocities are little lines."
     ]
    },
    {
     "cell_type": "code",
     "collapsed": false,
     "input": [
      "%%HTML\n",
      "<canvas id='imageId'>\n",
      "<img id='imgBuf' style='visibility:hidden; display:none'>\n",
      "\n",
      "<script type='text/javascript'>\n",
      "var ib = document.getElementById(\"imgBuf\");\n",
      "var c = document.getElementById(\"imageId\");\n",
      "var ctx = c.getContext ('2d');\n",
      "\n",
      "function drawMotion (vels)\n",
      "{\n",
      "    with (ctx) {\n",
      "        lineWidth = 1;\n",
      "        strokeStyle = \"#fc0\";\n",
      "        var i;\n",
      "        beginPath();\n",
      "        for (i in vels) \n",
      "        {\n",
      "            var row = vels[i];\n",
      "            var x = row[0];\n",
      "            var y = row[1];\n",
      "            var u = row[2];\n",
      "            var v = row[3];\n",
      "            moveTo (x, y);\n",
      "            lineTo (x+u, y+v);\n",
      "        }\n",
      "        stroke();\n",
      "    }\n",
      "}\n",
      "</script>"
     ],
     "language": "python",
     "metadata": {},
     "outputs": [
      {
       "html": [
        "<canvas id='imageId'>\n",
        "<img id='imgBuf' style='visibility:hidden; display:none'>\n",
        "\n",
        "<script type='text/javascript'>\n",
        "var ib = document.getElementById(\"imgBuf\");\n",
        "var c = document.getElementById(\"imageId\");\n",
        "var ctx = c.getContext ('2d');\n",
        "\n",
        "function drawMotion (vels)\n",
        "{\n",
        "    with (ctx) {\n",
        "        lineWidth = 1;\n",
        "        strokeStyle = \"#fc0\";\n",
        "        var i;\n",
        "        beginPath();\n",
        "        for (i in vels) \n",
        "        {\n",
        "            var row = vels[i];\n",
        "            var x = row[0];\n",
        "            var y = row[1];\n",
        "            var u = row[2];\n",
        "            var v = row[3];\n",
        "            moveTo (x, y);\n",
        "            lineTo (x+u, y+v);\n",
        "        }\n",
        "        stroke();\n",
        "    }\n",
        "}\n",
        "</script>"
       ],
       "metadata": {},
       "output_type": "display_data",
       "text": [
        "<IPython.core.display.HTML at 0x106809350>"
       ]
      }
     ],
     "prompt_number": 6
    },
    {
     "cell_type": "markdown",
     "metadata": {},
     "source": [
      "OK, we can call the main loop. The images will appear above this line.\n",
      "\n",
      "To recall, the parameters are, canvas Id, duration in sec, number of divisions, rate and resolution of the images."
     ]
    },
    {
     "cell_type": "code",
     "collapsed": false,
     "input": [
      "mainLoop('imageId', maxSecs=2, ndivs=20, rate=6, resol=8)"
     ],
     "language": "python",
     "metadata": {},
     "outputs": [
      {
       "output_type": "stream",
       "stream": "stdout",
       "text": [
        "Frames per sec= 3.93\n"
       ]
      }
     ],
     "prompt_number": 9
    },
    {
     "cell_type": "markdown",
     "metadata": {},
     "source": [
      "Since the image will not show, if the camera is not running, I recorded a video to show the result [opticalflow.mov](opticalflow.mov)."
     ]
    },
    {
     "cell_type": "raw",
     "metadata": {},
     "source": [
      "This page was written by Shui Hung Kwok, 2014-03-09."
     ]
    }
   ],
   "metadata": {}
  }
 ]
}